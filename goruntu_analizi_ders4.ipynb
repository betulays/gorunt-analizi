{
 "cells": [
  {
   "cell_type": "markdown",
   "metadata": {},
   "source": [
    "# NESNE TANIMA VE TAKİP"
   ]
  },
  {
   "cell_type": "code",
   "execution_count": 1,
   "metadata": {},
   "outputs": [
    {
     "ename": "error",
     "evalue": "OpenCV(4.1.0) C:\\projects\\opencv-python\\opencv\\modules\\highgui\\src\\window.cpp:352: error: (-215:Assertion failed) size.width>0 && size.height>0 in function 'cv::imshow'\n",
     "output_type": "error",
     "traceback": [
      "\u001b[1;31m---------------------------------------------------------------------------\u001b[0m",
      "\u001b[1;31merror\u001b[0m                                     Traceback (most recent call last)",
      "\u001b[1;32m<ipython-input-1-a73768892daf>\u001b[0m in \u001b[0;36m<module>\u001b[1;34m\u001b[0m\n\u001b[0;32m     14\u001b[0m \u001b[1;33m\u001b[0m\u001b[0m\n\u001b[0;32m     15\u001b[0m     \u001b[1;31m# Display cropped image\u001b[0m\u001b[1;33m\u001b[0m\u001b[1;33m\u001b[0m\u001b[1;33m\u001b[0m\u001b[0m\n\u001b[1;32m---> 16\u001b[1;33m     \u001b[0mcv2\u001b[0m\u001b[1;33m.\u001b[0m\u001b[0mimshow\u001b[0m\u001b[1;33m(\u001b[0m\u001b[1;34m\"Image\"\u001b[0m\u001b[1;33m,\u001b[0m \u001b[0mimCrop\u001b[0m\u001b[1;33m)\u001b[0m\u001b[1;33m\u001b[0m\u001b[1;33m\u001b[0m\u001b[0m\n\u001b[0m\u001b[0;32m     17\u001b[0m     \u001b[0mcv2\u001b[0m\u001b[1;33m.\u001b[0m\u001b[0mwaitKey\u001b[0m\u001b[1;33m(\u001b[0m\u001b[1;36m0\u001b[0m\u001b[1;33m)\u001b[0m\u001b[1;33m\u001b[0m\u001b[1;33m\u001b[0m\u001b[0m\n\u001b[0;32m     18\u001b[0m     \u001b[0mcv2\u001b[0m\u001b[1;33m.\u001b[0m\u001b[0mdestroyAllWindows\u001b[0m\u001b[1;33m(\u001b[0m\u001b[1;33m)\u001b[0m\u001b[1;33m\u001b[0m\u001b[1;33m\u001b[0m\u001b[0m\n",
      "\u001b[1;31merror\u001b[0m: OpenCV(4.1.0) C:\\projects\\opencv-python\\opencv\\modules\\highgui\\src\\window.cpp:352: error: (-215:Assertion failed) size.width>0 && size.height>0 in function 'cv::imshow'\n"
     ]
    }
   ],
   "source": [
    "import cv2\n",
    "import numpy as np\n",
    " \n",
    "if __name__ == '__main__' :\n",
    " \n",
    "    # Read image\n",
    "    im = cv2.imread(\"phuketkk.jpg\")\n",
    "     \n",
    "    # Select ROI\n",
    "    r = cv2.selectROI(im)\n",
    "     \n",
    "    # Crop image\n",
    "    imCrop = im[int(r[1]):int(r[1]+r[3]), int(r[0]):int(r[0]+r[2])]\n",
    " \n",
    "    # Display cropped image\n",
    "    cv2.imshow(\"Image\", imCrop)\n",
    "    cv2.waitKey(0)\n",
    "    cv2.destroyAllWindows()"
   ]
  },
  {
   "cell_type": "code",
   "execution_count": 4,
   "metadata": {},
   "outputs": [],
   "source": [
    "\n",
    "im = cv2.imread(\"phuketkk.jpg\")\n",
    "showCrosshair = True\n",
    "fromCenter = True\n",
    "r = cv2.selectROI(\"Image\", im, fromCenter, showCrosshair)\n",
    "\n",
    "imCrop = im[int(r[1]):int(r[1]+r[3]), int(r[0]):int(r[0]+r[2])]\n",
    " \n",
    "\n",
    "cv2.imshow(\"Image\", imCrop)\n",
    "cv2.waitKey(0)\n",
    "cv2.destroyAllWindows()"
   ]
  },
  {
   "cell_type": "code",
   "execution_count": 6,
   "metadata": {},
   "outputs": [
    {
     "name": "stdout",
     "output_type": "stream",
     "text": [
      "346\n"
     ]
    }
   ],
   "source": [
    "print(int(r[1]+r[3]))"
   ]
  },
  {
   "cell_type": "markdown",
   "metadata": {},
   "source": [
    "# 1. Medial flow tracker"
   ]
  },
  {
   "cell_type": "code",
   "execution_count": 2,
   "metadata": {},
   "outputs": [],
   "source": [
    "import cv2\n",
    "import numpy as np\n",
    "import time"
   ]
  },
  {
   "cell_type": "code",
   "execution_count": 3,
   "metadata": {},
   "outputs": [],
   "source": [
    "cap = cv2.VideoCapture(\"./traffic.mp4\")\n",
    "\n",
    "_, frame = cap.read()\n",
    "\n",
    "bbox = cv2.selectROI(frame, False, False)\n",
    "\n",
    "cv2.destroyAllWindows()"
   ]
  },
  {
   "cell_type": "code",
   "execution_count": 4,
   "metadata": {},
   "outputs": [
    {
     "name": "stdout",
     "output_type": "stream",
     "text": [
      "1475806226857\n",
      "1475806674699\n",
      "1475806986798\n",
      "1475807289026\n",
      "1475807562633\n",
      "1475807799904\n",
      "1475808093017\n",
      "1475808342897\n",
      "1475808584989\n",
      "1475808786734\n",
      "1475809047954\n",
      "1475809282369\n",
      "1475809524192\n",
      "1475809747476\n",
      "1475810006350\n",
      "1475810245663\n",
      "1475810475761\n",
      "1475810683909\n",
      "1475810900124\n",
      "1475812857969\n",
      "1475813063970\n",
      "1475813285110\n",
      "1475813535668\n",
      "1475813801488\n",
      "1475814085532\n",
      "1475814350657\n",
      "1475814606874\n",
      "1475814862497\n",
      "1475815105680\n",
      "1475815340282\n",
      "1475815575115\n",
      "1475815822208\n",
      "1475816069379\n",
      "1475816307552\n",
      "1475816556626\n",
      "1475816797530\n",
      "1475817040882\n",
      "1475817269170\n",
      "1475817506714\n",
      "1475817745903\n",
      "1475817989478\n",
      "1475818229596\n",
      "1475818467902\n",
      "1475818712374\n",
      "1475818964301\n",
      "1475819191411\n",
      "1475819432649\n",
      "1475819669411\n",
      "1475819914124\n",
      "1475820146300\n",
      "1475820379178\n",
      "1475820619335\n",
      "1475820858028\n",
      "1475821086133\n",
      "1475821328606\n",
      "1475821584703\n",
      "1475821818598\n",
      "1475822041242\n",
      "1475822287295\n",
      "1475822513967\n",
      "1475822750544\n",
      "1475822981663\n",
      "1475823222652\n",
      "1475823450293\n",
      "1475823701859\n",
      "1475823933948\n",
      "1475824191779\n",
      "1475824434185\n",
      "1475824661620\n",
      "1475824894163\n",
      "1475826411043\n",
      "1475826630908\n",
      "1475826862562\n",
      "1475827118042\n",
      "1475827398358\n",
      "1475827744060\n",
      "1475828049763\n",
      "1475828319313\n",
      "1475828572683\n",
      "1475828816452\n",
      "1475829058729\n",
      "1475829316391\n",
      "1475829557863\n",
      "1475829797909\n",
      "1475830042434\n",
      "1475830271027\n",
      "1475830508577\n",
      "1475830730799\n",
      "1475830972800\n",
      "1475831214304\n",
      "1475831465094\n",
      "1475831713448\n",
      "1475831969217\n",
      "1475832198819\n",
      "1475832432969\n",
      "1475832665795\n",
      "1475832911890\n",
      "1475833156692\n",
      "1475833401005\n",
      "1475833637533\n",
      "1475833877488\n",
      "1475834103158\n",
      "1475834355171\n",
      "1475834586789\n",
      "1475834820697\n",
      "1475835046947\n",
      "1475835305066\n",
      "1475835561461\n",
      "1475835797449\n",
      "1475836035223\n",
      "1475836245302\n",
      "1475836473247\n",
      "1475836710764\n",
      "1475836950792\n",
      "1475837208709\n",
      "1475837454131\n",
      "1475837708797\n",
      "1475837949875\n",
      "1475838194813\n",
      "1475838451253\n",
      "1475838705771\n",
      "1475838947534\n",
      "1475839229358\n",
      "1475839482449\n",
      "1475839707472\n",
      "1475839944342\n",
      "1475840201516\n",
      "1475840442610\n",
      "1475840673605\n",
      "1475840904257\n",
      "1475841183687\n",
      "1475841420314\n",
      "1475841656564\n",
      "1475841899326\n",
      "1475842143382\n",
      "1475842371631\n",
      "1475842602738\n",
      "1475842847093\n",
      "1475843110916\n",
      "1475843357702\n",
      "1475843605546\n",
      "1475843880732\n",
      "1475844112092\n"
     ]
    }
   ],
   "source": [
    "tracker = cv2.TrackerMedianFlow_create()\n",
    "status_tracker = tracker.init(frame, bbox)\n",
    "fps = 0\n",
    "#cv.getTickCount function returns the number of clock-cycles\n",
    "#cv.getTickFrequency function returns the frequency of clock-cycles, or the number of clock-cycles per second\n",
    "#(cv2.getTickCount() - timer)/cv2.getTickFrequency() returns ;he time of execution in seconds\n",
    "while True:\n",
    "    status_cap, frame = cap.read()\n",
    "    if not status_cap:\n",
    "        break\n",
    "\n",
    "    if status_tracker:\n",
    "        timer = cv2.getTickCount()\n",
    "        print(timer)\n",
    "        status_tracker, bbox = tracker.update(frame)\n",
    "\n",
    "    if status_tracker:\n",
    "        x, y, w, h = [int(i) for i in bbox]\n",
    "        cv2.rectangle(frame, (x, y), (x + w, y + h), (0, 255, 0), 15)\n",
    "        fps = cv2.getTickFrequency() / (cv2.getTickCount() - timer);\n",
    "        cv2.putText(frame, \"FPS: %.0f\" % fps, (0, 80), cv2.FONT_HERSHEY_SIMPLEX, 3.5, (0, 0, 0), 8);\n",
    "    else:\n",
    "        cv2.putText(frame, \"Tracking failure detected\", (0, 80), cv2.FONT_HERSHEY_SIMPLEX, 3.5, (0,0,255), 8)\n",
    "\n",
    "    cv2.imshow(\"MedianFlow tracker\", frame)\n",
    "\n",
    "    k = cv2.waitKey(1)\n",
    "\n",
    "    if k == 27: \n",
    "        break\n",
    "\n",
    "cv2.destroyAllWindows()"
   ]
  },
  {
   "cell_type": "markdown",
   "metadata": {},
   "source": [
    "# 2. Tracking API ile farklı algoritmalar kullanarak nesnelerin takip edilmesi"
   ]
  },
  {
   "cell_type": "code",
   "execution_count": 2,
   "metadata": {},
   "outputs": [],
   "source": [
    "cv2.namedWindow('frame')\n",
    "\n",
    "for name, tracker in (('KCF', cv2.TrackerKCF_create), \n",
    "                      ('MIL', cv2.TrackerMIL_create), \n",
    "                      ('TLD', cv2.TrackerTLD_create)):\n",
    "    tracker = tracker()\n",
    "    initialized = False"
   ]
  },
  {
   "cell_type": "code",
   "execution_count": 8,
   "metadata": {},
   "outputs": [],
   "source": [
    "video = cv2.VideoCapture('./traffic.mp4')\n",
    "bbox = (878, 266, 1153-878, 475-266)"
   ]
  },
  {
   "cell_type": "code",
   "execution_count": 9,
   "metadata": {},
   "outputs": [],
   "source": [
    "while True:\n",
    "        t0 = time.time()\n",
    "        ok, frame = video.read()\n",
    "        if not ok: \n",
    "            break\n",
    "\n",
    "        if initialized:\n",
    "            tracked, bbox = tracker.update(frame)\n",
    "        else:\n",
    "            cv2.imwrite('/tmp/frame.png', frame)\n",
    "            tracked = tracker.init(frame, bbox)\n",
    "            initialized = True\n",
    "\n",
    "        fps = 1 / (time.time() - t0)\n",
    "        cv2.putText(frame, 'tracker: {}, fps: {:.1f}'.format(name, fps),\n",
    "                    (10, 50), cv2.FONT_HERSHEY_SIMPLEX, 1, (255, 0, 0), 2) \n",
    "        if tracked:\n",
    "            bbox = tuple(map(int, bbox))\n",
    "            cv2.rectangle(frame, (bbox[0], bbox[1]), \n",
    "                          (bbox[0]+bbox[2], bbox[1]+bbox[3]), \n",
    "                          (0, 255, 0), 3)\n",
    "        cv2.imshow('frame', frame)\n",
    "        if cv2.waitKey(3) == 27:\n",
    "            break\n",
    "cv2.destroyAllWindows()"
   ]
  }
 ],
 "metadata": {
  "kernelspec": {
   "display_name": "Python 3",
   "language": "python",
   "name": "python3"
  },
  "language_info": {
   "codemirror_mode": {
    "name": "ipython",
    "version": 3
   },
   "file_extension": ".py",
   "mimetype": "text/x-python",
   "name": "python",
   "nbconvert_exporter": "python",
   "pygments_lexer": "ipython3",
   "version": "3.6.7"
  }
 },
 "nbformat": 4,
 "nbformat_minor": 2
}
